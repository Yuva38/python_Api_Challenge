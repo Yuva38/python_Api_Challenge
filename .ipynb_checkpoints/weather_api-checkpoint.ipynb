{
 "cells": [
  {
   "cell_type": "code",
   "execution_count": 1,
   "metadata": {},
   "outputs": [],
   "source": [
    "#dependencies\n",
    "import matplotlib.pyplot as plt\n",
    "import pandas as pd\n",
    "import numpy as np\n",
    "import requests\n",
    "import time\n",
    "import json"
   ]
  },
  {
   "cell_type": "code",
   "execution_count": 2,
   "metadata": {},
   "outputs": [],
   "source": [
    "# Import API key\n",
    "from config import api_key\n"
   ]
  },
  {
   "cell_type": "code",
   "execution_count": 3,
   "metadata": {},
   "outputs": [],
   "source": [
    "# Incorporated citipy to determine city based on latitude and longitude\n",
    "from citipy import citipy\n",
    "#pip install citipy"
   ]
  },
  {
   "cell_type": "code",
   "execution_count": 4,
   "metadata": {},
   "outputs": [],
   "source": [
    "# Output File (CSV)\n",
    "output_data_file = \"output_data/cities.csv\"\n"
   ]
  },
  {
   "cell_type": "code",
   "execution_count": 5,
   "metadata": {},
   "outputs": [],
   "source": [
    "# Range of latitudes and longitudes\n",
    "lat_range = (-90, 90)\n",
    "lng_range = (-180, 180)"
   ]
  },
  {
   "cell_type": "code",
   "execution_count": 6,
   "metadata": {},
   "outputs": [],
   "source": [
    "#generate city list\n",
    "#hold lat and long list and city list\n",
    "lat_lngs = []\n",
    "cities = []\n"
   ]
  },
  {
   "cell_type": "code",
   "execution_count": 7,
   "metadata": {},
   "outputs": [],
   "source": [
    "# Create a set of random lat and lng combinations\n",
    "lats = np.random.uniform(low=-90.000, high=90.000, size=10)\n",
    "lngs = np.random.uniform(low=-180.000, high=180.000, size=10)\n",
    "lat_lngs = zip(lats, lngs)"
   ]
  },
  {
   "cell_type": "code",
   "execution_count": 8,
   "metadata": {},
   "outputs": [
    {
     "data": {
      "text/plain": [
       "10"
      ]
     },
     "execution_count": 8,
     "metadata": {},
     "output_type": "execute_result"
    }
   ],
   "source": [
    "# Identify nearest city for each lat, lng combination\n",
    "for lat_lng in lat_lngs:\n",
    "    city = citipy.nearest_city(lat_lng[0], lat_lng[1]).city_name\n",
    "    \n",
    "    # If the city is unique, then add it to a our cities list\n",
    "    if city not in cities:\n",
    "        cities.append(city)\n",
    "\n",
    "# Print the city count to confirm sufficient count\n",
    "len(cities)"
   ]
  },
  {
   "cell_type": "code",
   "execution_count": 9,
   "metadata": {},
   "outputs": [],
   "source": [
    "\n",
    "url = \"http://api.openweathermap.org/data/2.5/weather?\"\n",
    "#response = requests.get(url).json()\n",
    "#print =(json.dumps(response, indent = 4, sort_keys=True))\n",
    "lat = []\n",
    "temp = []\n",
    "humidity = []\n",
    "cloudiness = []\n",
    "wind_speed = []\n",
    "y = []\n",
    "\n"
   ]
  },
  {
   "cell_type": "code",
   "execution_count": 13,
   "metadata": {},
   "outputs": [
    {
     "name": "stdout",
     "output_type": "stream",
     "text": [
      "http://api.openweathermap.org/data/2.5/weather?APPID=e0dd1eb45b46041472f3b521f35e1403&q=kodiak\n",
      " For kodiak The latitude is 39.95 Temperature is 282.69  Humidity(%) is 49 Cloudiness(%) is 1 Wind Speed is 3.1\n",
      "http://api.openweathermap.org/data/2.5/weather?APPID=e0dd1eb45b46041472f3b521f35e1403&q=hami\n",
      " For hami The latitude is 42.84 Temperature is 272.74  Humidity(%) is 45 Cloudiness(%) is 38 Wind Speed is 1.06\n",
      "http://api.openweathermap.org/data/2.5/weather?APPID=e0dd1eb45b46041472f3b521f35e1403&q=shahr-e babak\n",
      " For shahr-e babak The latitude is 30.12 Temperature is 283.54  Humidity(%) is 38 Cloudiness(%) is 33 Wind Speed is 1.81\n",
      "http://api.openweathermap.org/data/2.5/weather?APPID=e0dd1eb45b46041472f3b521f35e1403&q=khatanga\n",
      " For khatanga The latitude is 71.98 Temperature is 263.37  Humidity(%) is 71 Cloudiness(%) is 94 Wind Speed is 6.68\n",
      "http://api.openweathermap.org/data/2.5/weather?APPID=e0dd1eb45b46041472f3b521f35e1403&q=port elizabeth\n",
      " For port elizabeth The latitude is 39.31 Temperature is 291.1  Humidity(%) is 93 Cloudiness(%) is 90 Wind Speed is 4.1\n",
      "http://api.openweathermap.org/data/2.5/weather?APPID=e0dd1eb45b46041472f3b521f35e1403&q=soke\n",
      " For soke The latitude is 13.6 Temperature is 302.06  Humidity(%) is 55 Cloudiness(%) is 9 Wind Speed is 3.28\n",
      "http://api.openweathermap.org/data/2.5/weather?APPID=e0dd1eb45b46041472f3b521f35e1403&q=viru\n",
      " For viru The latitude is 57.74 Temperature is 284.98  Humidity(%) is 76 Cloudiness(%) is 75 Wind Speed is 7.7\n",
      "http://api.openweathermap.org/data/2.5/weather?APPID=e0dd1eb45b46041472f3b521f35e1403&q=ponta do sol\n",
      " For ponta do sol The latitude is -20.63 Temperature is 293.54  Humidity(%) is 80 Cloudiness(%) is 61 Wind Speed is 2.09\n",
      "http://api.openweathermap.org/data/2.5/weather?APPID=e0dd1eb45b46041472f3b521f35e1403&q=victor harbor\n",
      " For victor harbor The latitude is -35.55 Temperature is 302.45  Humidity(%) is 39 Cloudiness(%) is 0 Wind Speed is 5.1\n",
      "http://api.openweathermap.org/data/2.5/weather?APPID=e0dd1eb45b46041472f3b521f35e1403&q=sisimiut\n",
      " For sisimiut The latitude is 66.94 Temperature is 266.95  Humidity(%) is 43 Cloudiness(%) is 7 Wind Speed is 2.94\n"
     ]
    }
   ],
   "source": [
    "for city in cities:\n",
    "    try:\n",
    "        params = {\"appid\" : api_key, \"q\" : city, \"units\" : \"metric\"}\n",
    "        complete_url = url + \"APPID=\" + api_key + \"&q=\" + city \n",
    "        print(complete_url)\n",
    "        response= requests.get(complete_url).json()\n",
    "       # response = requests.get(url, params= params).json()\n",
    "        lat_value = response['coord']['lat']\n",
    "        temp_value = response['main']['temp']\n",
    "        humidity_value = response['main']['humidity']\n",
    "        cloudiness_value = response[\"clouds\"][\"all\"]\n",
    "        wind_speed_value = response['wind']['speed']\n",
    "        lat.append(response['coord']['lat'])\n",
    "        temp.append(response['main']['temp'])\n",
    "        humidity.append(response['main']['humidity'])\n",
    "        cloudiness.append(response[\"clouds\"][\"all\"])\n",
    "        wind_speed.append(response['wind']['speed'])\n",
    "        y.append(city)\n",
    "        print(f\" For {city} The latitude is {lat_value} Temperature is {temp_value}  Humidity(%) is {humidity_value} Cloudiness(%) is {cloudiness_value} Wind Speed is {wind_speed_value}\")\n",
    "        \n",
    "    except (KeyError, IndexError):\n",
    "        print(\"City not found... skipping.\")"
   ]
  },
  {
   "cell_type": "code",
   "execution_count": null,
   "metadata": {},
   "outputs": [],
   "source": []
  }
 ],
 "metadata": {
  "kernelspec": {
   "display_name": "Python 3",
   "language": "python",
   "name": "python3"
  },
  "language_info": {
   "codemirror_mode": {
    "name": "ipython",
    "version": 3
   },
   "file_extension": ".py",
   "mimetype": "text/x-python",
   "name": "python",
   "nbconvert_exporter": "python",
   "pygments_lexer": "ipython3",
   "version": "3.7.3"
  }
 },
 "nbformat": 4,
 "nbformat_minor": 2
}
